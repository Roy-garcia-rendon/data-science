{
  "cells": [
    {
      "cell_type": "markdown",
      "metadata": {},
      "source": [
        "# 03 · Pandas + EDA con dataset de ventas\n",
        "Objetivo: cargar, limpiar, explorar y visualizar."
      ]
    },
    {
      "cell_type": "code",
      "metadata": {},
      "execution_count": null,
      "outputs": [],
      "source": [
        "import pandas as pd\n",
        "import matplotlib.pyplot as plt\n",
        "df = pd.read_csv('../data/raw/sales.csv', parse_dates=['date'])\n",
        "df.head()"
      ]
    },
    {
      "cell_type": "code",
      "metadata": {},
      "execution_count": null,
      "outputs": [],
      "source": [
        "# Info y descriptivos\n",
        "display(df.info())\n",
        "df.describe(numeric_only=True)"
      ]
    },
    {
      "cell_type": "code",
      "metadata": {},
      "execution_count": null,
      "outputs": [],
      "source": [
        "# Ingresos diarios\n",
        "daily = df.groupby('date', as_index=False)['revenue'].sum()\n",
        "plt.figure()\n",
        "plt.plot(daily['date'], daily['revenue'])\n",
        "plt.title('Ingresos diarios')\n",
        "plt.xlabel('Fecha'); plt.ylabel('Revenue'); plt.tight_layout()\n"
      ]
    },
    {
      "cell_type": "code",
      "metadata": {},
      "execution_count": null,
      "outputs": [],
      "source": [
        "# Ventas por categoría\n",
        "by_cat = df.groupby('category', as_index=False)['revenue'].sum().sort_values('revenue', ascending=False)\n",
        "plt.figure()\n",
        "plt.bar(by_cat['category'], by_cat['revenue'])\n",
        "plt.title('Revenue por categoría'); plt.xticks(rotation=30); plt.tight_layout()\n",
        "by_cat"
      ]
    },
    {
      "cell_type": "code",
      "metadata": {},
      "execution_count": null,
      "outputs": [],
      "source": [
        "# Boxplot por canal\n",
        "import numpy as np\n",
        "plt.figure()\n",
        "df.boxplot(column='revenue', by='channel', grid=False)\n",
        "plt.suptitle(''); plt.title('Distribución de revenue por canal'); plt.tight_layout()\n"
      ]
    },
    {
      "cell_type": "markdown",
      "metadata": {},
      "source": [
        "### Entregable\n",
        "- 3 gráficos limpios (línea, barras, caja) con títulos/ejes.\n",
        "- 3 hallazgos concretos en texto (ej. estacionalidad, top categorías, ticket promedio)."
      ]
    }
  ],
  "metadata": {
    "kernelspec": {
      "name": "python3",
      "display_name": "Python 3",
      "language": "python"
    },
    "language_info": {
      "name": "python",
      "version": "3.11"
    }
  },
  "nbformat": 4,
  "nbformat_minor": 5
}