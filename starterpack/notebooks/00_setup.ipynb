{
  "cells": [
    {
      "cell_type": "markdown",
      "metadata": {},
      "source": [
        "# 00 · Setup del entorno\n",
        "Ejecuta esta celda para verificar que tu entorno está listo.\n",
        "Si alguna importación falla, instala el paquete correspondiente."
      ]
    },
    {
      "cell_type": "code",
      "execution_count": 1,
      "metadata": {},
      "outputs": [
        {
          "name": "stdout",
          "output_type": "stream",
          "text": [
            "Python 3.13.5 | packaged by Anaconda, Inc. | (main, Jun 12 2025, 16:37:03) [MSC v.1929 64 bit (AMD64)]\n",
            "numpy 2.1.3\n",
            "pandas 2.2.3\n",
            "matplotlib 3.10.0\n",
            "scikit-learn 1.6.1\n",
            "plotly 5.24.1\n",
            "statsmodels 0.14.4\n"
          ]
        }
      ],
      "source": [
        "import sys, numpy, pandas, matplotlib, sklearn, plotly, statsmodels\n",
        "print('Python', sys.version)\n",
        "print('numpy', numpy.__version__)\n",
        "print('pandas', pandas.__version__)\n",
        "print('matplotlib', matplotlib.__version__)\n",
        "print('scikit-learn', sklearn.__version__)\n",
        "print('plotly', plotly.__version__)\n",
        "print('statsmodels', statsmodels.__version__)"
      ]
    },
    {
      "cell_type": "markdown",
      "metadata": {},
      "source": [
        "### Próximo paso\n",
        "Abre `01_python_basics.ipynb` y completa los ejercicios."
      ]
    }
  ],
  "metadata": {
    "kernelspec": {
      "display_name": "base",
      "language": "python",
      "name": "python3"
    },
    "language_info": {
      "codemirror_mode": {
        "name": "ipython",
        "version": 3
      },
      "file_extension": ".py",
      "mimetype": "text/x-python",
      "name": "python",
      "nbconvert_exporter": "python",
      "pygments_lexer": "ipython3",
      "version": "3.13.5"
    }
  },
  "nbformat": 4,
  "nbformat_minor": 5
}
