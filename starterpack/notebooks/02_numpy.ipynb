{
  "cells": [
    {
      "cell_type": "markdown",
      "metadata": {},
      "source": [
        "# 02 · NumPy y vectorización\n",
        "Objetivo: practicar arrays, broadcasting y rendimiento."
      ]
    },
    {
      "cell_type": "code",
      "metadata": {},
      "execution_count": null,
      "outputs": [],
      "source": [
        "import numpy as np\n",
        "np.random.seed(123)\n",
        "A = np.random.randn(1000, 1000)\n",
        "B = np.random.randn(1000, 1000)\n",
        "# Ejercicio 1: producto punto (matmul) y comparación de tiempos\n",
        "%timeit A @ B\n"
      ]
    },
    {
      "cell_type": "code",
      "metadata": {},
      "execution_count": null,
      "outputs": [],
      "source": [
        "# Ejercicio 2: normalización por columnas (media 0, var 1)\n",
        "def zscore(X):\n",
        "    mu = X.mean(axis=0)\n",
        "    sd = X.std(axis=0, ddof=1)\n",
        "    return (X - mu) / (sd + 1e-8)\n",
        "Z = zscore(A)\n",
        "print(np.round(Z.mean(0)[:5], 4), np.round(Z.std(0, ddof=1)[:5], 4))"
      ]
    },
    {
      "cell_type": "code",
      "metadata": {},
      "execution_count": null,
      "outputs": [],
      "source": [
        "# Ejercicio 3: broadcasting para distancia euclídea par-a-par en 2D\n",
        "X = np.random.randn(500, 2)\n",
        "dists = np.sqrt(((X[:, None, :] - X[None, :, :])**2).sum(-1))\n",
        "print(dists.shape)  # 500x500"
      ]
    },
    {
      "cell_type": "markdown",
      "metadata": {},
      "source": [
        "Sigue con `03_pandas_eda.ipynb`."
      ]
    }
  ],
  "metadata": {
    "kernelspec": {
      "name": "python3",
      "display_name": "Python 3",
      "language": "python"
    },
    "language_info": {
      "name": "python",
      "version": "3.11"
    }
  },
  "nbformat": 4,
  "nbformat_minor": 5
}