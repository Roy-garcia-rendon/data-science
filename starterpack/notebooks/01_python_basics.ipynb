{
  "cells": [
    {
      "cell_type": "markdown",
      "metadata": {},
      "source": [
        "# 01 · Fundamentos de Python (Semana 1)\n",
        "Completa los ejercicios. Hay *asserts* de autocorrección básica."
      ]
    },
    {
      "cell_type": "code",
      "execution_count": 1,
      "metadata": {},
      "outputs": [],
      "source": [
        "# Ejercicio 1: FizzBuzz de 1 a 30 -> lista de strings\n",
        "def fizzbuzz(n=30):\n",
        "    res = []\n",
        "    for i in range(1, n+1):\n",
        "        s = ''\n",
        "        if i % 3 == 0: s += 'Fizz'\n",
        "        if i % 5 == 0: s += 'Buzz'\n",
        "        res.append(s or str(i))\n",
        "    return res\n",
        "assert fizzbuzz(15)[-1] == 'FizzBuzz'"
      ]
    },
    {
      "cell_type": "code",
      "execution_count": 2,
      "metadata": {},
      "outputs": [],
      "source": [
        "# Ejercicio 2: Palíndromo\n",
        "def es_palindromo(s: str) -> bool:\n",
        "    t = ''.join(c.lower() for c in s if c.isalnum())\n",
        "    return t == t[::-1]\n",
        "assert es_palindromo('Ana lleva al oso la avellana')"
      ]
    },
    {
      "cell_type": "code",
      "execution_count": null,
      "metadata": {},
      "outputs": [],
      "source": [
        "# Ejercicio 3: Conteo de palabras\n",
        "def conteo_palabras(texto: str):\n",
        "    frec = {}\n",
        "    for token in texto.lower().split():\n",
        "        frec[token] = frec.get(token, 0) + 1\n",
        "    return frec\n",
        "d = conteo_palabras('a b a c A')\n",
        "assert d['a'] == 2 and d['b'] == 1 and d['c'] == 1"
      ]
    },
    {
      "cell_type": "code",
      "execution_count": null,
      "metadata": {},
      "outputs": [],
      "source": [
        "# Ejercicio 4: Factorial iterativo y recursivo\n",
        "def fact_it(n):\n",
        "    r = 1\n",
        "    for i in range(2, n+1): r *= i\n",
        "    return r\n",
        "def fact_rec(n):\n",
        "    return 1 if n<=1 else n*fact_rec(n-1)\n",
        "assert fact_it(5) == 120 and fact_rec(6) == 720"
      ]
    },
    {
      "cell_type": "code",
      "execution_count": null,
      "metadata": {},
      "outputs": [],
      "source": [
        "# Ejercicio 5: Números primos (chequeo simple)\n",
        "def es_primo(n):\n",
        "    if n < 2: return False\n",
        "    if n % 2 == 0:\n",
        "        return n == 2\n",
        "    i = 3\n",
        "    while i*i <= n:\n",
        "        if n % i == 0: return False\n",
        "        i += 2\n",
        "    return True\n",
        "assert es_primo(2) and es_primo(13) and not es_primo(1) and not es_primo(9)"
      ]
    },
    {
      "cell_type": "code",
      "execution_count": null,
      "metadata": {},
      "outputs": [],
      "source": [
        "# Ejercicio 6: Aplanar lista anidada\n",
        "def aplanar(xs):\n",
        "    res = []\n",
        "    for x in xs:\n",
        "        if isinstance(x, list):\n",
        "            res.extend(aplanar(x))\n",
        "        else:\n",
        "            res.append(x)\n",
        "    return res\n",
        "assert aplanar([1,[2,[3,4]],5]) == [1,2,3,4,5]"
      ]
    },
    {
      "cell_type": "code",
      "execution_count": null,
      "metadata": {},
      "outputs": [],
      "source": [
        "# Ejercicio 7: CSV -> suma de una columna\n",
        "import csv\n",
        "def suma_columna_csv(path, col):\n",
        "    s = 0.0\n",
        "    with open(path, newline='', encoding='utf-8') as f:\n",
        "        reader = csv.DictReader(f)\n",
        "        for row in reader:\n",
        "            s += float(row[col])\n",
        "    return s\n",
        "assert round(suma_columna_csv('../data/raw/sales.csv', 'revenue'), 2) > 0"
      ]
    },
    {
      "cell_type": "markdown",
      "metadata": {},
      "source": [
        "¡Excelente! Continúa con `02_numpy.ipynb`."
      ]
    }
  ],
  "metadata": {
    "kernelspec": {
      "display_name": "base",
      "language": "python",
      "name": "python3"
    },
    "language_info": {
      "codemirror_mode": {
        "name": "ipython",
        "version": 3
      },
      "file_extension": ".py",
      "mimetype": "text/x-python",
      "name": "python",
      "nbconvert_exporter": "python",
      "pygments_lexer": "ipython3",
      "version": "3.13.5"
    }
  },
  "nbformat": 4,
  "nbformat_minor": 5
}
